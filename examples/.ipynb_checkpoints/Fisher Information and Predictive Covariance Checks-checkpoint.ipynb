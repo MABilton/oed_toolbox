{
 "cells": [
  {
   "cell_type": "code",
   "execution_count": 1,
   "id": "3ee0b609",
   "metadata": {},
   "outputs": [],
   "source": [
    "import oed_toolbox\n",
    "import numpy as np\n",
    "import jax\n",
    "import jax.numpy as jnp"
   ]
  },
  {
   "cell_type": "code",
   "execution_count": 2,
   "id": "4cdc9f82",
   "metadata": {},
   "outputs": [],
   "source": [
    "def create_linear_model(K_func, b_func):\n",
    "    def linear_model(theta, d):\n",
    "        return jnp.einsum('ij,j->i', K_func(d), theta) + b_func(d)\n",
    "    return linear_model"
   ]
  },
  {
   "cell_type": "code",
   "execution_count": 18,
   "id": "53d20568",
   "metadata": {},
   "outputs": [],
   "source": [
    "K_func = lambda d: jnp.atleast_2d(-1*(d-5)**2 + 20)\n",
    "b_func = lambda d: 0.\n",
    "model_func = create_linear_model(K_func, b_func)\n",
    "model = oed_toolbox.models.Model.from_jax_function(model_func)"
   ]
  },
  {
   "cell_type": "code",
   "execution_count": 19,
   "id": "c0e1056c",
   "metadata": {},
   "outputs": [],
   "source": [
    "likelihood = oed_toolbox.uncertainties.Likelihood.from_model_plus_constant_gaussian_noise(model, 0.1)"
   ]
  },
  {
   "cell_type": "code",
   "execution_count": 20,
   "id": "74c9d23c",
   "metadata": {},
   "outputs": [],
   "source": [
    "def my_func(y, theta, d):\n",
    "    y_pred = model_func(theta, d)\n",
    "    return jax.scipy.stats.multivariate_normal.logpdf(y, mean=y_pred, cov=0.1*jnp.identity(y_pred.shape[0]))"
   ]
  },
  {
   "cell_type": "code",
   "execution_count": 21,
   "id": "5c318ec7",
   "metadata": {},
   "outputs": [],
   "source": [
    "ll_dt_dt = jax.vmap(jax.jacfwd(jax.jacfwd(my_func, argnums=1), argnums=1), in_axes=(0,None,None))\n",
    "\n",
    "def jax_fisher_info(d, theta, num_samples, rng):\n",
    "    y_pred = model_func(theta, d)\n",
    "    y = y_pred + jax.random.multivariate_normal(rng, mean=jnp.array([0.]), cov=0.1*jnp.array([[1.]]), shape=(num_samples,))\n",
    "    return -1*jnp.mean(ll_dt_dt(y, theta, d), axis=0)\n",
    "\n",
    "fisher_info_dd = jax.jacfwd(jax_fisher_info, argnums=0)"
   ]
  },
  {
   "cell_type": "code",
   "execution_count": 22,
   "id": "02cc7ab2",
   "metadata": {},
   "outputs": [
    {
     "name": "stdout",
     "output_type": "stream",
     "text": [
      "[[3610.]]\n",
      "[[[760.]]]\n"
     ]
    }
   ],
   "source": [
    "print(jax_fisher_info(jnp.array([4.]), jnp.array([100.]), 10, jax.random.PRNGKey(20)))\n",
    "print(fisher_info_dd(jnp.array([4.]), jnp.array([100.]), 10, jax.random.PRNGKey(20)))"
   ]
  },
  {
   "cell_type": "code",
   "execution_count": 23,
   "id": "abd09c22",
   "metadata": {},
   "outputs": [
    {
     "data": {
      "text/plain": [
       "{'cov': array([[3610.]]), 'cov_dd': array([[[760.]]])}"
      ]
     },
     "execution_count": 23,
     "metadata": {},
     "output_type": "execute_result"
    }
   ],
   "source": [
    "fisher_info = oed_toolbox.uncertainties.FisherInformation(likelihood)\n",
    "fisher_info(4.0, 100, 10)"
   ]
  },
  {
   "cell_type": "code",
   "execution_count": null,
   "id": "28d9f6db",
   "metadata": {},
   "outputs": [],
   "source": [
    "ll_dt_dt = jax.vmap(jax.jacfwd(jax.jacfwd(my_func, argnums=1), argnums=1), in_axes=(0,None,None))\n",
    "\n",
    "def jax_predictive_cov(d, theta, num_samples, rng):\n",
    "    fisher_info = jax_fisher_info(d, theta, num_samples, rng)\n",
    "    y_pred = model_func(theta, d)\n",
    "    y = y_pred + jax.random.multivariate_normal(rng, mean=jnp.array([0.]), cov=0.1*jnp.array([[1.]]), shape=(num_samples,))\n",
    "    return -1*jnp.mean(ll_dt_dt(y, theta, d), axis=0)\n",
    "\n",
    "fisher_info_dd = jax.jacfwd(jax_fisher_info, argnums=0)"
   ]
  },
  {
   "cell_type": "code",
   "execution_count": 8,
   "id": "021970ea",
   "metadata": {},
   "outputs": [
    {
     "data": {
      "text/plain": [
       "array([[1., 1., 1., 1., 1., 1., 1.],\n",
       "       [1., 1., 1., 1., 1., 1., 1.],\n",
       "       [1., 1., 1., 1., 1., 1., 1.]])"
      ]
     },
     "execution_count": 8,
     "metadata": {},
     "output_type": "execute_result"
    }
   ],
   "source": [
    "np.concatenate([np.ones((3,2)), np.ones((3,5))], axis=1)"
   ]
  },
  {
   "cell_type": "code",
   "execution_count": null,
   "id": "72170e3d",
   "metadata": {},
   "outputs": [],
   "source": [
    "def create_posterior_cov(model, prior_cov, noise_cov):\n",
    "    prior_icov = jnp.linalg.inv(prior_cov)\n",
    "    noise_icov = jnp.linalg.inv(noise_cov)\n",
    "    def posterior_cov_and_grad(d, theta, num_samples, rng):\n",
    "        y_dt = model_dt(theta, d)\n",
    "        y_dt_dd = model_dt_dd(theta, d)\n",
    "        post_icov = jnp.einsum(\"ki,kl,lj->ij\", y_dt, noise_icov, y_dt) + prior_icov\n",
    "        post_cov = jnp.linalg.inv(post_icov)\n",
    "        post_icov_dd = 2*jnp.einsum(\"lik,lm,mj->ijk\", y_dt_dd, noise_icov, y_dt) \n",
    "        post_cov_dd = -1*jnp.einsum(\"il,lmk,mj->ijk\", post_cov, post_icov_dd, post_cov)\n",
    "        return {'cov': post_cov, 'cov_dd': post_cov_dd}\n",
    "    return posterior_cov_and_grad\n",
    "cov_and_grad = create_posterior_cov_and_grad(model, prior_cov, noise_cov)\n",
    "cov = oed_toolbox.covariances.Covariance(cov_and_grad)"
   ]
  }
 ],
 "metadata": {
  "kernelspec": {
   "display_name": "Python 3 (ipykernel)",
   "language": "python",
   "name": "python3"
  },
  "language_info": {
   "codemirror_mode": {
    "name": "ipython",
    "version": 3
   },
   "file_extension": ".py",
   "mimetype": "text/x-python",
   "name": "python",
   "nbconvert_exporter": "python",
   "pygments_lexer": "ipython3",
   "version": "3.8.10"
  }
 },
 "nbformat": 4,
 "nbformat_minor": 5
}

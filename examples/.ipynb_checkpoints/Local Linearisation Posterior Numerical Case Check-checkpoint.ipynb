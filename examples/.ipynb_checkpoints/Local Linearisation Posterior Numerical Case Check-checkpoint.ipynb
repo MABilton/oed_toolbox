{
 "cells": [
  {
   "cell_type": "code",
   "execution_count": 3,
   "id": "3ee0b609",
   "metadata": {},
   "outputs": [],
   "source": [
    "import oed_toolbox\n",
    "import numpy as np\n",
    "import jax\n",
    "import jax.numpy as jnp"
   ]
  },
  {
   "cell_type": "code",
   "execution_count": 33,
   "id": "aa50a27f",
   "metadata": {},
   "outputs": [],
   "source": [
    "K_func = lambda d: jnp.atleast_2d(-1*d**2)\n",
    "b_func = lambda d: 0.\n",
    "def create_linear_model(K_func, b_func):\n",
    "    def linear_model(theta, d):\n",
    "        theta = jnp.atleast_1d(theta.squeeze())\n",
    "        return jnp.einsum('ij,j->i', K_func(d), theta**2) + b_func(d)\n",
    "    return linear_model"
   ]
  },
  {
   "cell_type": "code",
   "execution_count": 34,
   "id": "a4f88f77",
   "metadata": {},
   "outputs": [],
   "source": [
    "prior_mean = jnp.array([0.0])\n",
    "prior_cov = jnp.array([[1.0]])\n",
    "noise_cov = jnp.array([[0.1]])\n",
    "lr=1e-5\n",
    "max_iter=200\n",
    "abs_tol = 1e-5\n",
    "rel_tol=1e-5\n",
    "model_func = create_linear_model(K_func, b_func)\n",
    "model_func_dt = jax.jacfwd(model_func, argnums=0)\n",
    "model = oed_toolbox.models.Model.from_jax_function(model_func)\n",
    "minimizer = oed_toolbox.optim.gradient_descent_for_map(lr=lr, max_iter=max_iter, abs_tol=abs_tol, rel_tol=rel_tol)\n",
    "posterior = oed_toolbox.uncertainties.Posterior.laplace_approximation(model, minimizer, noise_cov, prior_mean, prior_cov)"
   ]
  },
  {
   "cell_type": "code",
   "execution_count": 35,
   "id": "b512be0d",
   "metadata": {},
   "outputs": [],
   "source": [
    "def theta_map(theta_0, y, d):\n",
    "    num_opt_problems = theta_0.shape[0]\n",
    "    converged = jnp.zeros((num_opt_problems,), dtype=bool)\n",
    "    num_iter = 0\n",
    "    loss_prev_iter = None\n",
    "    theta = theta_0\n",
    "    while not jnp.all(converged):\n",
    "        loss, grad = map_loss_and_grad(theta, y, d)\n",
    "        # Zero-out converged gradients:\n",
    "        theta = theta - lr*jnp.einsum('a,a...->a...', ~converged, grad)\n",
    "        converged = less_than_abs_tol(loss, loss_prev_iter, num_opt_problems) | \\\n",
    "                    less_than_rel_tol(loss, loss_prev_iter, num_opt_problems) | \\\n",
    "                    exceeded_max_iter(num_iter, max_iter, num_opt_problems)\n",
    "        num_iter += 1\n",
    "        loss_prev_iter = loss\n",
    "    return theta\n",
    "\n",
    "def map_loss_and_grad(theta, y, d):\n",
    "    y_pred = model_func(theta, d)\n",
    "    y_del_theta = model_func_dt(theta, d)\n",
    "    loss = jnp.einsum(\"ai,ij,aj->a\", y-y_pred, noise_icov, y-y_pred) + \\\n",
    "           jnp.einsum(\"ai,ij,aj->a\", theta-prior_mean, prior_icov, theta-prior_mean)\n",
    "    loss_del_theta = -2*jnp.einsum(\"aik,ij,aj->ak\", y_del_theta, noise_icov, y-y_pred) + \\\n",
    "                      2*jnp.einsum(\"ij,aj->ai\", prior_icov, theta-prior_mean)\n",
    "    return loss, loss_del_theta\n",
    "\n",
    "def less_than_abs_tol(loss, loss_prev_iter, num_opt_problems):\n",
    "    if loss_prev_iter is None:\n",
    "        is_lt_abs_tol = jnp.zeros((num_opt_problems,), dtype=bool)\n",
    "    else:\n",
    "        is_lt_abs_tol = jnp.abs(loss - loss_prev_iter) <= abs_tol\n",
    "    return is_lt_abs_tol\n",
    "\n",
    "def less_than_rel_tol(loss, loss_prev_iter, num_opt_problems):\n",
    "    if loss_prev_iter is None:\n",
    "        is_lt_rel_tol = jnp.zeros((num_opt_problems,), dtype=bool)\n",
    "    else:\n",
    "        is_lt_rel_tol = jnp.abs(loss - loss_prev_iter) <= rel_tol*loss_prev_iter\n",
    "    return is_lt_rel_tol\n",
    "\n",
    "def exceeded_max_iter(num_iter, max_iter, num_opt_problems):\n",
    "    return (num_iter >= max_iter)*jnp.ones((num_opt_problems,), dtype=bool)"
   ]
  },
  {
   "cell_type": "code",
   "execution_count": 36,
   "id": "f1db2887",
   "metadata": {},
   "outputs": [],
   "source": [
    "noise_icov = jnp.linalg.inv(noise_cov)\n",
    "prior_icov = jnp.linalg.inv(prior_cov)\n",
    "\n",
    "def jax_posterior(theta, y, d):\n",
    "    t_map = theta_map(theta, y, d)\n",
    "    y_map = model_func(t_map, d)\n",
    "    y_map_dt = model_func_dt(t_map, d)\n",
    "    b = linearisation_constant(y_map, y_map_dt, t_map)\n",
    "    mean, cov, icov = mean_cov_and_icov(y, t_map, y_map, y_map_dt, b)\n",
    "    return jax.scipy.stats.multivariate_normal.logpdf(theta, mean=mean, cov=cov)\n",
    "\n",
    "def linearisation_constant(y_map, y_map_del_theta, theta_map):\n",
    "    return y_map - jnp.einsum(\"aij,aj->ai\", y_map_del_theta, theta_map)\n",
    "\n",
    "def mean_cov_and_icov(y, theta_map, y_map, y_map_del_theta, b):\n",
    "    inv_cov = jnp.einsum(\"aki,kl,alj->aij\", y_map_del_theta, noise_icov, y_map_del_theta) + prior_icov\n",
    "    cov = jnp.linalg.inv(inv_cov)\n",
    "    mean_times_inv_cov = jnp.einsum(\"aj,jk,aki->ai\", y-b, noise_icov, y_map_del_theta) + jnp.einsum('i,ij->j', prior_mean, prior_icov)\n",
    "    mean = jnp.einsum(\"ak,aki->ai\", mean_times_inv_cov, cov)\n",
    "    return mean, cov, inv_cov"
   ]
  },
  {
   "cell_type": "code",
   "execution_count": 37,
   "id": "a96caef7",
   "metadata": {},
   "outputs": [],
   "source": [
    "jax_posterior_grad = jax.jacfwd(jax_posterior, argnums=2)"
   ]
  },
  {
   "cell_type": "code",
   "execution_count": 38,
   "id": "4de9c90a",
   "metadata": {
    "scrolled": false
   },
   "outputs": [
    {
     "name": "stdout",
     "output_type": "stream",
     "text": [
      "[-19.296803]\n",
      "[[[-35.38819]]]\n"
     ]
    }
   ],
   "source": [
    "theta = jnp.array([[1.]])\n",
    "y = jnp.array([[1.]])\n",
    "d =  jnp.array([[1.]])\n",
    "print(jax_posterior(theta, y, d))\n",
    "print(jax_posterior_grad(theta, y, d))"
   ]
  },
  {
   "cell_type": "code",
   "execution_count": 39,
   "id": "6405be03",
   "metadata": {},
   "outputs": [
    {
     "data": {
      "text/plain": [
       "{'logpdf': array([-19.296804], dtype=float32),\n",
       " 'logpdf_dd': array([[-37.031006]], dtype=float32)}"
      ]
     },
     "execution_count": 39,
     "metadata": {},
     "output_type": "execute_result"
    }
   ],
   "source": [
    "posterior.logpdf(theta, y, d, return_dd=True)"
   ]
  }
 ],
 "metadata": {
  "kernelspec": {
   "display_name": "Python 3 (ipykernel)",
   "language": "python",
   "name": "python3"
  },
  "language_info": {
   "codemirror_mode": {
    "name": "ipython",
    "version": 3
   },
   "file_extension": ".py",
   "mimetype": "text/x-python",
   "name": "python",
   "nbconvert_exporter": "python",
   "pygments_lexer": "ipython3",
   "version": "3.8.10"
  }
 },
 "nbformat": 4,
 "nbformat_minor": 5
}

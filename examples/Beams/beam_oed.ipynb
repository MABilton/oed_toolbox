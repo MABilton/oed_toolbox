{
 "cells": [
  {
   "cell_type": "code",
   "execution_count": 1,
   "id": "c4e40278",
   "metadata": {},
   "outputs": [],
   "source": [
    "import json\n",
    "import jax\n",
    "import jax.numpy as jnp\n",
    "import surrojax_gp\n",
    "import oed_toolbox"
   ]
  },
  {
   "cell_type": "code",
   "execution_count": 2,
   "id": "0f298363",
   "metadata": {},
   "outputs": [
    {
     "name": "stderr",
     "output_type": "stream",
     "text": [
      "WARNING:absl:No GPU/TPU found, falling back to CPU. (Set TF_CPP_MIN_LOG_LEVEL=0 and rerun for more info.)\n"
     ]
    }
   ],
   "source": [
    "def load_beam_data(file_dir):\n",
    "    with open(file_dir, 'r') as f:\n",
    "        data = json.load(f)\n",
    "    try:\n",
    "        x = jnp.stack([jnp.array(data[key]) for key in ('E', 'y_rot')], axis=-1)\n",
    "        y = jnp.array(jnp.array(data['end_disp'])).reshape(-1,1)\n",
    "    except KeyError:\n",
    "        x = jnp.stack([jnp.array(data[key]) for key in ('E', 'Beam Angle')], axis=-1)\n",
    "        y = jnp.array(jnp.array(data['End Displacement'])).reshape(-1,1)\n",
    "    return {'x': x, 'y': y}\n",
    "\n",
    "def scale_data(data):\n",
    "    for key, val in data.items():\n",
    "        data[key] = (val- jnp.min(val ,axis=0))/(jnp.max(val ,axis=0) - jnp.min(val ,axis=0))\n",
    "    return data\n",
    "\n",
    "linear_data = scale_data(load_beam_data('linear_beam_train.json'))\n",
    "nonlinear_data = scale_data(load_beam_data('nonlinear_beam_train.json'))"
   ]
  },
  {
   "cell_type": "code",
   "execution_count": 3,
   "id": "d87e8f11",
   "metadata": {
    "scrolled": true
   },
   "outputs": [
    {
     "name": "stdout",
     "output_type": "stream",
     "text": [
      "-93.08633\n",
      "-133.60971\n",
      "-95.6327\n",
      "-156.34497\n",
      "-240.05603\n",
      "-195.32083\n",
      "-245.65036\n",
      "-172.73447\n",
      "-256.8095\n",
      "-261.1317\n",
      "-263.31085\n",
      "-264.59674\n",
      "-265.4391\n",
      "-263.36307\n",
      "-266.41797\n",
      "-266.0668\n",
      "-267.96014\n",
      "-267.65726\n",
      "-264.6313\n",
      "-264.3997\n",
      "-267.65726\n",
      "-267.65726\n",
      "-268.13397\n",
      "-268.13397\n",
      "-268.13397\n",
      "-265.8656\n",
      "-268.13397\n",
      "-268.13397\n",
      "-267.3597\n",
      "-268.13397\n",
      "-268.13397\n",
      "-265.55286\n",
      "-268.13397\n",
      "-268.13397\n",
      "-266.26984\n",
      "-268.13397\n",
      "-267.30255\n",
      "-267.0605\n",
      "-266.83017\n",
      "-268.13397\n",
      "-268.13397\n",
      "-268.13397\n",
      "-268.13397\n",
      "-268.13397\n",
      "-268.13397\n",
      "-268.13397\n",
      "-268.13397\n",
      "-268.13397\n",
      "-268.13397\n",
      "-268.13397\n",
      "-268.13397\n",
      "-268.13397\n",
      "-268.13397\n",
      "-268.13397\n",
      "-268.13397\n",
      "      fun: array(-268.13397217)\n",
      " hess_inv: <3x3 LbfgsInvHessProduct with dtype=float64>\n",
      "      jac: array([ 0.07310563,  5.18304443, -4.95946884])\n",
      "  message: 'CONVERGENCE: REL_REDUCTION_OF_F_<=_FACTR*EPSMCH'\n",
      "     nfev: 55\n",
      "      nit: 11\n",
      "     njev: 55\n",
      "   status: 0\n",
      "  success: True\n",
      "        x: array([44.64443157,  0.63340229,  0.70003374])\n",
      "-141.74521\n",
      "-134.26138\n",
      "897.66437\n",
      "-141.81198\n",
      "-141.58661\n",
      "-141.81198\n",
      "-141.8552\n",
      "-142.60956\n",
      "-145.10141\n",
      "-237.15903\n",
      "-234.41928\n",
      "-255.99796\n",
      "-251.72507\n",
      "-248.47577\n",
      "-258.09805\n",
      "-259.81024\n",
      "-261.78854\n",
      "-255.90924\n",
      "-256.66995\n",
      "-261.78854\n",
      "-259.72174\n",
      "-260.85284\n",
      "-261.78854\n",
      "-261.78854\n",
      "-261.78854\n",
      "-261.78854\n",
      "-261.78854\n",
      "-261.78854\n",
      "-261.78854\n",
      "-261.78854\n",
      "-261.78854\n",
      "-261.78854\n",
      "-261.78854\n",
      "-261.78854\n",
      "-261.78854\n",
      "-261.78854\n",
      "      fun: array(-261.7885437)\n",
      " hess_inv: <3x3 LbfgsInvHessProduct with dtype=float64>\n",
      "      jac: array([ -0.27783656,  32.90299988, -28.32697678])\n",
      "  message: 'CONVERGENCE: REL_REDUCTION_OF_F_<=_FACTR*EPSMCH'\n",
      "     nfev: 36\n",
      "      nit: 6\n",
      "     njev: 36\n",
      "   status: 0\n",
      "  success: True\n",
      "        x: array([43.87357312,  1.80068937,  0.35420895])\n",
      "599.30786\n",
      "-130.27011\n",
      "141.30649\n",
      "11.836418\n",
      "-212.94644\n",
      "-165.2619\n",
      "-220.34802\n",
      "-228.08319\n",
      "-230.64142\n",
      "-229.4679\n",
      "-231.38028\n",
      "-229.19522\n",
      "-231.18164\n",
      "-232.8529\n",
      "-230.30933\n",
      "-230.84882\n",
      "-229.59073\n",
      "-231.42905\n",
      "-232.8529\n",
      "-232.8529\n",
      "-232.8529\n",
      "-232.8529\n",
      "-232.8529\n",
      "-232.8529\n",
      "-232.8529\n",
      "-232.8529\n",
      "-232.8529\n",
      "-232.8529\n",
      "-232.8529\n",
      "      fun: array(-232.85290527)\n",
      " hess_inv: <3x3 LbfgsInvHessProduct with dtype=float64>\n",
      "      jac: array([  0.1108968 ,   9.33355331, -59.6711731 ])\n",
      "  message: 'CONVERGENCE: REL_REDUCTION_OF_F_<=_FACTR*EPSMCH'\n",
      "     nfev: 29\n",
      "      nit: 6\n",
      "     njev: 29\n",
      "   status: 0\n",
      "  success: True\n",
      "        x: array([42.13389155,  0.79613129,  0.1939166 ])\n",
      "676.65436\n",
      "-137.82632\n",
      "701.95074\n",
      "49.601585\n",
      "-193.52158\n",
      "-223.62921\n",
      "-137.24362\n",
      "-225.1023\n",
      "-226.40424\n",
      "-234.2692\n",
      "-217.32889\n",
      "-230.36038\n",
      "-233.08716\n",
      "-233.08994\n",
      "-232.28287\n",
      "-231.88947\n",
      "-234.2692\n",
      "-234.2692\n",
      "-234.2692\n",
      "-234.2692\n",
      "-234.2692\n",
      "-234.2692\n",
      "-234.2692\n",
      "-234.2692\n",
      "-234.2692\n",
      "-234.2692\n",
      "-234.2692\n",
      "      fun: array(-234.26919556)\n",
      " hess_inv: <3x3 LbfgsInvHessProduct with dtype=float64>\n",
      "      jac: array([  0.23391259, -33.43195343, -25.05742645])\n",
      "  message: 'CONVERGENCE: REL_REDUCTION_OF_F_<=_FACTR*EPSMCH'\n",
      "     nfev: 27\n",
      "      nit: 5\n",
      "     njev: 27\n",
      "   status: 0\n",
      "  success: True\n",
      "        x: array([37.1064967 ,  0.43720512,  0.29087525])\n"
     ]
    }
   ],
   "source": [
    "def kernel(x_1, x_2, params):\n",
    "    lengths = jnp.array([params[f\"length_{i}\"] for i in range(2)])\n",
    "    inv_lengths = jnp.diag(lengths**(-1))\n",
    "    ln_k_d = -0.5*(x_1 - x_2).T @ inv_lengths @ (x_1 - x_2) \n",
    "    return params[\"const\"]*jnp.exp(ln_k_d)\n",
    "constraints = {\"length_0\": {\">\": 10**-1, \"<\": 10**1}, \n",
    "               \"length_1\": {\">\": 10**-1, \"<\": 10**1}, \n",
    "               \"const\": {\">\": 10**-1, \"<\": 10**2}}\n",
    "linear_gp = surrojax_gp.create_gp(kernel, linear_data['x'], linear_data['y'], constraints)\n",
    "nonlinear_gp = surrojax_gp.create_gp(kernel, nonlinear_data['x'], nonlinear_data['y'], constraints)"
   ]
  },
  {
   "cell_type": "code",
   "execution_count": 4,
   "id": "f8f1e4e9",
   "metadata": {},
   "outputs": [],
   "source": [
    "linear_beam = oed_toolbox.models.Model.from_surrojax_gp(linear_gp)\n",
    "nonlinear_beam = oed_toolbox.models.Model.from_surrojax_gp(nonlinear_gp)"
   ]
  },
  {
   "cell_type": "code",
   "execution_count": 5,
   "id": "ff0d11de",
   "metadata": {},
   "outputs": [],
   "source": [
    "noise_cov = 0.05*jnp.identity(1)\n",
    "prior_mean = 5*jnp.ones((1,))\n",
    "prior_cov = 1.0*jnp.identity(1)"
   ]
  },
  {
   "cell_type": "code",
   "execution_count": 6,
   "id": "772ecf44",
   "metadata": {},
   "outputs": [],
   "source": [
    "likelihood = oed_toolbox.uncertainties.Likelihood.from_model_plus_constant_gaussian_noise(linear_beam, noise_cov)\n",
    "fisher_information = oed_toolbox.uncertainties.FisherInformation(likelihood)"
   ]
  },
  {
   "cell_type": "code",
   "execution_count": 19,
   "id": "3fda6592",
   "metadata": {},
   "outputs": [
    {
     "data": {
      "text/plain": [
       "{'cov': array([[1.6500549]], dtype=float32),\n",
       " 'cov_dd': array([[[13.298292]]], dtype=float32)}"
      ]
     },
     "execution_count": 19,
     "metadata": {},
     "output_type": "execute_result"
    }
   ],
   "source": [
    "fisher_information(0.2,0.5,100)"
   ]
  },
  {
   "cell_type": "code",
   "execution_count": 40,
   "id": "627c7208",
   "metadata": {},
   "outputs": [
    {
     "ename": "NameError",
     "evalue": "name 'model' is not defined",
     "output_type": "error",
     "traceback": [
      "\u001b[0;31m---------------------------------------------------------------------------\u001b[0m",
      "\u001b[0;31mNameError\u001b[0m                                 Traceback (most recent call last)",
      "\u001b[0;32m/tmp/ipykernel_2022/2817446264.py\u001b[0m in \u001b[0;36m<module>\u001b[0;34m\u001b[0m\n\u001b[1;32m      1\u001b[0m \u001b[0mminimizer\u001b[0m \u001b[0;34m=\u001b[0m \u001b[0moed_toolbox\u001b[0m\u001b[0;34m.\u001b[0m\u001b[0moptim\u001b[0m\u001b[0;34m.\u001b[0m\u001b[0mgradient_descent_for_map\u001b[0m\u001b[0;34m(\u001b[0m\u001b[0;34m)\u001b[0m\u001b[0;34m\u001b[0m\u001b[0;34m\u001b[0m\u001b[0m\n\u001b[1;32m      2\u001b[0m \u001b[0mape_linearisation\u001b[0m \u001b[0;34m=\u001b[0m\u001b[0;31m \u001b[0m\u001b[0;31m\\\u001b[0m\u001b[0;34m\u001b[0m\u001b[0;34m\u001b[0m\u001b[0m\n\u001b[0;32m----> 3\u001b[0;31m \u001b[0moed_toolbox\u001b[0m\u001b[0;34m.\u001b[0m\u001b[0mlosses\u001b[0m\u001b[0;34m.\u001b[0m\u001b[0mAPE\u001b[0m\u001b[0;34m.\u001b[0m\u001b[0mfrom_model_plus_constant_gaussian_noise\u001b[0m\u001b[0;34m(\u001b[0m\u001b[0mmodel\u001b[0m\u001b[0;34m,\u001b[0m \u001b[0mminimizer\u001b[0m\u001b[0;34m,\u001b[0m \u001b[0mprior_mean\u001b[0m\u001b[0;34m,\u001b[0m \u001b[0mprior_cov\u001b[0m\u001b[0;34m,\u001b[0m \u001b[0mnoise_cov\u001b[0m\u001b[0;34m)\u001b[0m\u001b[0;34m\u001b[0m\u001b[0;34m\u001b[0m\u001b[0m\n\u001b[0m",
      "\u001b[0;31mNameError\u001b[0m: name 'model' is not defined"
     ]
    }
   ],
   "source": [
    "minimizer = oed_toolbox.optim.gradient_descent_for_map()\n",
    "ape_linearisation = \\\n",
    "oed_toolbox.losses.APE.from_model_plus_constant_gaussian_noise(model, minimizer, prior_mean, prior_cov, noise_cov)"
   ]
  },
  {
   "cell_type": "code",
   "execution_count": null,
   "id": "0e7675ac",
   "metadata": {},
   "outputs": [],
   "source": [
    "prior = oed_toolbox.uncertainties.Prior.gaussian(prior_mean, prior_cov)\n",
    "joint = oed_toolbox.uncertainties.Joint.from_prior_and_likelihood(prior, likelihood)\n",
    "posterior = oed_toolbox.uncertainties.Posterior.from_posteriax()\n",
    "ape_full = oed_toolbox.losses.APE(joint, likelihood, posterior)"
   ]
  }
 ],
 "metadata": {
  "kernelspec": {
   "display_name": "Python 3 (ipykernel)",
   "language": "python",
   "name": "python3"
  },
  "language_info": {
   "codemirror_mode": {
    "name": "ipython",
    "version": 3
   },
   "file_extension": ".py",
   "mimetype": "text/x-python",
   "name": "python",
   "nbconvert_exporter": "python",
   "pygments_lexer": "ipython3",
   "version": "3.8.10"
  }
 },
 "nbformat": 4,
 "nbformat_minor": 5
}

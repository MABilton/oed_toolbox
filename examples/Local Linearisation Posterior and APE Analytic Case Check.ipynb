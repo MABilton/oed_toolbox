{
 "cells": [
  {
   "cell_type": "code",
   "execution_count": 1,
   "id": "3ee0b609",
   "metadata": {},
   "outputs": [],
   "source": [
    "import oed_toolbox\n",
    "import numpy as np\n",
    "import jax\n",
    "import jax.numpy as jnp"
   ]
  },
  {
   "cell_type": "code",
   "execution_count": 2,
   "id": "4cdc9f82",
   "metadata": {},
   "outputs": [],
   "source": [
    "K_func = lambda d: jnp.atleast_2d(-1*(d-5)**2 + 20)\n",
    "b_func = lambda d: 0.\n",
    "def create_linear_model(K_func, b_func):\n",
    "    def linear_model(theta, d):\n",
    "        theta = jnp.atleast_1d(theta.squeeze())\n",
    "        return jnp.einsum('ij,j->i', K_func(d), theta) + b_func(d)\n",
    "    return linear_model"
   ]
  },
  {
   "cell_type": "code",
   "execution_count": 3,
   "id": "73c275cb",
   "metadata": {},
   "outputs": [
    {
     "name": "stderr",
     "output_type": "stream",
     "text": [
      "WARNING:absl:No GPU/TPU found, falling back to CPU. (Set TF_CPP_MIN_LOG_LEVEL=0 and rerun for more info.)\n"
     ]
    }
   ],
   "source": [
    "prior_mean = jnp.array([0.0])\n",
    "prior_cov = jnp.array([[1.0]])\n",
    "noise_cov = jnp.array([[0.1]])\n",
    "model_func = create_linear_model(K_func, b_func)\n",
    "model_func_dt = jax.jacfwd(model_func, argnums=0)\n",
    "model = oed_toolbox.models.Model.from_jax_function(model_func)"
   ]
  },
  {
   "cell_type": "markdown",
   "id": "99dfcb9f",
   "metadata": {},
   "source": [
    "# Likelihood check:"
   ]
  },
  {
   "cell_type": "code",
   "execution_count": 4,
   "id": "3927f51f",
   "metadata": {},
   "outputs": [],
   "source": [
    "def true_likelihood(y, theta, d):\n",
    "    y_mean = model_func(theta, d)\n",
    "    return jax.scipy.stats.multivariate_normal.logpdf(y, mean=y_mean, cov=noise_cov)\n",
    "true_likelihood_vmap = jax.vmap(true_likelihood, in_axes=(0,0,0))\n",
    "true_likelihood_dd = jax.vmap(jax.jacfwd(true_likelihood, argnums=2), in_axes=(0,0,0))"
   ]
  },
  {
   "cell_type": "code",
   "execution_count": 5,
   "id": "4aa0af56",
   "metadata": {},
   "outputs": [],
   "source": [
    "likelihood = oed_toolbox.uncertainties.Likelihood.from_model_plus_constant_gaussian_noise(model, noise_cov)"
   ]
  },
  {
   "cell_type": "code",
   "execution_count": 6,
   "id": "f428bb62",
   "metadata": {},
   "outputs": [
    {
     "name": "stdout",
     "output_type": "stream",
     "text": [
      "True values: logpdf = [   -44.76765  -1999.7676  -10124.767  ], logpdf_dd = [[ -240.00002]\n",
      " [-2400.     ]\n",
      " [-5400.     ]]\n",
      "Computed Values: logpdf = [   -44.767647  -1999.7677   -10124.768   ], logpdf_dd = [[ -240.]\n",
      " [-2400.]\n",
      " [-5400.]]\n"
     ]
    }
   ],
   "source": [
    "theta = jnp.array([[1.], [2.], [3.]])\n",
    "y = jnp.array([[1.], [2.], [3.]])\n",
    "d = jnp.array([[1.], [2.],[ 3.]])\n",
    "print(f'True values: logpdf = {true_likelihood_vmap(y, theta, d)}, logpdf_dd = {true_likelihood_dd(y, theta, d)}')\n",
    "like_vals = likelihood.logpdf(y, theta, d, return_dd=True)\n",
    "print(f\"Computed Values: logpdf = {like_vals['logpdf']}, logpdf_dd = {like_vals['logpdf_dd']}\")"
   ]
  },
  {
   "cell_type": "markdown",
   "id": "eec27252",
   "metadata": {},
   "source": [
    "# Posterior check:"
   ]
  },
  {
   "cell_type": "code",
   "execution_count": 7,
   "id": "53d20568",
   "metadata": {},
   "outputs": [],
   "source": [
    "minimizer = oed_toolbox.optim.gradient_descent_for_map()\n",
    "posterior = oed_toolbox.uncertainties.Posterior.laplace_approximation(model, minimizer, noise_cov, prior_mean, prior_cov)"
   ]
  },
  {
   "cell_type": "code",
   "execution_count": 8,
   "id": "a1f44b23",
   "metadata": {},
   "outputs": [],
   "source": [
    "noise_icov = jnp.linalg.inv(noise_cov)\n",
    "prior_icov = jnp.linalg.inv(prior_cov)\n",
    "def true_posterior(theta, y, d):\n",
    "    K = K_func(d)\n",
    "    b = b_func(d)\n",
    "    icov = K.T @ noise_icov @ K + prior_icov\n",
    "    cov = jnp.linalg.inv(icov)\n",
    "    mean = ((y-b).T @ noise_icov @ K + prior_mean.T @ prior_icov) @ cov\n",
    "    return jax.scipy.stats.multivariate_normal.logpdf(theta, mean=mean, cov=cov)\n",
    "true_posterior_vmap = jax.vmap(true_posterior, in_axes=(0,0,0))\n",
    "true_posterior_grad = jax.vmap(jax.jacfwd(true_posterior, argnums=2), in_axes=(0,0,0))"
   ]
  },
  {
   "cell_type": "code",
   "execution_count": 10,
   "id": "255887f1",
   "metadata": {
    "scrolled": true
   },
   "outputs": [
    {
     "name": "stdout",
     "output_type": "stream",
     "text": [
      "True values: logpdf = [  -43.847176 -1999.3528  ], logpdf_dd = [[ -238.13585]\n",
      " [-2399.4731 ]]\n",
      "Computed Values: logpdf = [  -43.847183 -1999.3529  ], logpdf_dd = [[ -238.13588]\n",
      " [-2399.4731 ]]\n"
     ]
    }
   ],
   "source": [
    "theta = jnp.array([[1.], [2.]]) # , [3.]\n",
    "y = jnp.array([[1.], [2.]]) # , [3.]\n",
    "d = jnp.array([[1.], [2.]]) # ,[ 3.]\n",
    "print(f'True values: logpdf = {true_posterior_vmap(theta, y, d)}, logpdf_dd = {true_posterior_grad(theta, y, d)}')\n",
    "post_vals = posterior.logpdf(theta, y, d, return_dd=True)\n",
    "print(f\"Computed Values: logpdf = {post_vals['logpdf']}, logpdf_dd = {post_vals['logpdf_dd']}\")"
   ]
  },
  {
   "cell_type": "markdown",
   "id": "5133f363",
   "metadata": {},
   "source": [
    "# Ape check:"
   ]
  },
  {
   "cell_type": "code",
   "execution_count": 11,
   "id": "2cbf19e7",
   "metadata": {},
   "outputs": [],
   "source": [
    "ape = \\\n",
    "oed_toolbox.losses.APE.from_model_plus_constant_gaussian_noise(model, minimizer, prior_mean, \\\n",
    "                                                               prior_cov, noise_cov, apply_control_variates=True)"
   ]
  },
  {
   "cell_type": "code",
   "execution_count": 35,
   "id": "39b7944a",
   "metadata": {},
   "outputs": [],
   "source": [
    "vmap_true_posterior = jax.vmap(true_posterior, in_axes=(0,0,None))\n",
    "\n",
    "def sample_joint(d, num_samples, rng):\n",
    "    theta = jax.random.multivariate_normal(rng, mean=prior_mean, cov=prior_cov, shape=(num_samples,))\n",
    "    y = model_func(theta, d) + \\\n",
    "    jax.random.multivariate_normal(rng, mean=jnp.zeros(noise_cov.shape[0]), cov=noise_cov, shape=(num_samples,))\n",
    "    return theta, y\n",
    "\n",
    "def true_ape(d, num_samples, rng):\n",
    "    theta, y = sample_joint(d, num_samples, rng)\n",
    "    post_vals = vmap_true_posterior(theta, y, d)\n",
    "    return jnp.mean(post_vals)\n",
    "\n",
    "true_ape_grad = jax.jacfwd(true_ape, argnums=0)"
   ]
  },
  {
   "cell_type": "code",
   "execution_count": 37,
   "id": "fc53823f",
   "metadata": {},
   "outputs": [
    {
     "name": "stdout",
     "output_type": "stream",
     "text": [
      "True values: APE = 2.026233196258545, APE_dd = [0.8813911]\n",
      "Computed Values: APE = [0.41544667], APE_dd = [-31.91123439]\n"
     ]
    }
   ],
   "source": [
    "rng = jax.random.PRNGKey(20)\n",
    "d = jnp.array([1.5])\n",
    "num_samples = 1\n",
    "print(f'True values: APE = {true_ape(d, num_samples, rng)}, APE_dd = {true_ape_grad(d, num_samples, rng)}')\n",
    "ape_loss = ape(d, num_samples)\n",
    "print(f\"Computed Values: APE = {-1*ape_loss[0]}, APE_dd = {-1*ape_loss[1]}\")"
   ]
  },
  {
   "cell_type": "code",
   "execution_count": 18,
   "id": "a40d7fdb",
   "metadata": {},
   "outputs": [
    {
     "data": {
      "text/plain": [
       "DeviceArray([1.4665475, 1.4341668], dtype=float32)"
      ]
     },
     "execution_count": 18,
     "metadata": {},
     "output_type": "execute_result"
    }
   ],
   "source": [
    "theta = jnp.array([[1.3315865 ], [0.71527897]])\n",
    "y = jnp.array([[10.74088  ], [ 5.9644966]])\n",
    "vmap_true_posterior(theta, y, d)"
   ]
  },
  {
   "cell_type": "code",
   "execution_count": null,
   "id": "d9fd1adc",
   "metadata": {},
   "outputs": [],
   "source": []
  }
 ],
 "metadata": {
  "kernelspec": {
   "display_name": "Python 3 (ipykernel)",
   "language": "python",
   "name": "python3"
  },
  "language_info": {
   "codemirror_mode": {
    "name": "ipython",
    "version": 3
   },
   "file_extension": ".py",
   "mimetype": "text/x-python",
   "name": "python",
   "nbconvert_exporter": "python",
   "pygments_lexer": "ipython3",
   "version": "3.8.10"
  }
 },
 "nbformat": 4,
 "nbformat_minor": 5
}

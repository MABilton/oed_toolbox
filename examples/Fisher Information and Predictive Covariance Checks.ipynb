{
 "cells": [
  {
   "cell_type": "code",
   "execution_count": 1,
   "id": "3ee0b609",
   "metadata": {},
   "outputs": [],
   "source": [
    "import oed_toolbox\n",
    "import numpy as np\n",
    "import jax\n",
    "import jax.numpy as jnp"
   ]
  },
  {
   "cell_type": "code",
   "execution_count": 2,
   "id": "4cdc9f82",
   "metadata": {},
   "outputs": [],
   "source": [
    "def create_linear_model(K_func, b_func):\n",
    "    def linear_model(theta, d):\n",
    "        return jnp.einsum('ij,j->i', K_func(d), theta) + b_func(d)\n",
    "    return linear_model"
   ]
  },
  {
   "cell_type": "code",
   "execution_count": 3,
   "id": "53d20568",
   "metadata": {},
   "outputs": [],
   "source": [
    "K_func = lambda d: jnp.atleast_2d(-1*(d-5)**2 + 20)\n",
    "b_func = lambda d: 0.\n",
    "model_func = create_linear_model(K_func, b_func)\n",
    "model = oed_toolbox.models.Model.from_jax_function(model_func)"
   ]
  },
  {
   "cell_type": "code",
   "execution_count": 4,
   "id": "5e318780",
   "metadata": {},
   "outputs": [],
   "source": [
    "likelihood = oed_toolbox.uncertainties.Likelihood.from_model_plus_constant_gaussian_noise(model, 0.1)"
   ]
  },
  {
   "cell_type": "code",
   "execution_count": 5,
   "id": "0c60d9f0",
   "metadata": {},
   "outputs": [],
   "source": [
    "def my_func(y, theta, d):\n",
    "    y_pred = model_func(theta, d)\n",
    "    return jax.scipy.stats.multivariate_normal.logpdf(y, mean=y_pred, cov=0.1*jnp.identity(y_pred.shape[0]))"
   ]
  },
  {
   "cell_type": "code",
   "execution_count": 6,
   "id": "e4ad6ed9",
   "metadata": {},
   "outputs": [],
   "source": [
    "ll_dt_dt = jax.vmap(jax.jacfwd(jax.jacfwd(my_func, argnums=1), argnums=1), in_axes=(0,None,None))\n",
    "\n",
    "def jax_fisher_info(d, theta, num_samples, rng):\n",
    "    y_pred = model_func(theta, d)\n",
    "    y = y_pred + jax.random.multivariate_normal(rng, mean=jnp.array([0.]), cov=0.1*jnp.array([[1.]]), shape=(num_samples,))\n",
    "    return -1*jnp.mean(ll_dt_dt(y, theta, d), axis=0)\n",
    "\n",
    "fisher_info_dd = jax.jacfwd(jax_fisher_info, argnums=0)"
   ]
  },
  {
   "cell_type": "code",
   "execution_count": 7,
   "id": "3f20626b",
   "metadata": {},
   "outputs": [
    {
     "name": "stderr",
     "output_type": "stream",
     "text": [
      "WARNING:absl:No GPU/TPU found, falling back to CPU. (Set TF_CPP_MIN_LOG_LEVEL=0 and rerun for more info.)\n"
     ]
    },
    {
     "name": "stdout",
     "output_type": "stream",
     "text": [
      "[[3610.]]\n",
      "[[[760.]]]\n"
     ]
    }
   ],
   "source": [
    "print(jax_fisher_info(jnp.array([4.]), jnp.array([100.]), 10, jax.random.PRNGKey(20)))\n",
    "print(fisher_info_dd(jnp.array([4.]), jnp.array([100.]), 10, jax.random.PRNGKey(20)))"
   ]
  },
  {
   "cell_type": "code",
   "execution_count": 8,
   "id": "7de6e0f6",
   "metadata": {},
   "outputs": [
    {
     "data": {
      "text/plain": [
       "{'cov': array([[3610.]]), 'cov_dd': array([[[760.]]])}"
      ]
     },
     "execution_count": 8,
     "metadata": {},
     "output_type": "execute_result"
    }
   ],
   "source": [
    "fisher_info = oed_toolbox.uncertainties.FisherInformation(likelihood)\n",
    "fisher_info(4.0, 100, 10)"
   ]
  },
  {
   "cell_type": "code",
   "execution_count": 9,
   "id": "05eb00ca",
   "metadata": {},
   "outputs": [],
   "source": [
    "model_func_dt = jax.jacfwd(model_func, argnums=0)\n",
    "\n",
    "def jax_predictive_cov(d, theta, num_samples, rng):\n",
    "    fisher_info = jax_fisher_info(d, theta, num_samples, rng)\n",
    "    inv_fisher_info = jnp.linalg.inv(fisher_info)\n",
    "    y_dt = y_pred = model_func_dt(theta, d)\n",
    "    return jnp.einsum('ij,jk,kl->il', y_dt, inv_fisher_info, y_dt.T)\n",
    "\n",
    "pred_cov_dd = jax.jacfwd(jax_predictive_cov, argnums=0)"
   ]
  },
  {
   "cell_type": "code",
   "execution_count": 10,
   "id": "1ed3cc06",
   "metadata": {},
   "outputs": [
    {
     "name": "stdout",
     "output_type": "stream",
     "text": [
      "[[0.1]]\n",
      "[[[8.1490725e-10]]]\n"
     ]
    }
   ],
   "source": [
    "print(jax_predictive_cov(jnp.array([4.]), jnp.array([100.]), 10, jax.random.PRNGKey(20)))\n",
    "print(pred_cov_dd(jnp.array([4.]), jnp.array([100.]), 10, jax.random.PRNGKey(20)))"
   ]
  },
  {
   "cell_type": "code",
   "execution_count": 11,
   "id": "6ad376c7",
   "metadata": {},
   "outputs": [
    {
     "data": {
      "text/plain": [
       "{'cov': array([[0.1]]), 'cov_dd': array([[[0.]]])}"
      ]
     },
     "execution_count": 11,
     "metadata": {},
     "output_type": "execute_result"
    }
   ],
   "source": [
    "pred_cov = oed_toolbox.uncertainties.PredictiveCovariance(model, fisher_info)\n",
    "pred_cov(4.0, 100, 10)"
   ]
  },
  {
   "cell_type": "code",
   "execution_count": null,
   "id": "85409def",
   "metadata": {},
   "outputs": [],
   "source": []
  }
 ],
 "metadata": {
  "kernelspec": {
   "display_name": "Python 3 (ipykernel)",
   "language": "python",
   "name": "python3"
  },
  "language_info": {
   "codemirror_mode": {
    "name": "ipython",
    "version": 3
   },
   "file_extension": ".py",
   "mimetype": "text/x-python",
   "name": "python",
   "nbconvert_exporter": "python",
   "pygments_lexer": "ipython3",
   "version": "3.8.10"
  }
 },
 "nbformat": 4,
 "nbformat_minor": 5
}

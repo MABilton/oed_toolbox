{
 "cells": [
  {
   "cell_type": "code",
   "execution_count": 1,
   "id": "3ee0b609",
   "metadata": {},
   "outputs": [],
   "source": [
    "import oed_toolbox\n",
    "import numpy as np\n",
    "import jax\n",
    "import jax.numpy as jnp\n",
    "from jax.scipy import optimize as joptimize"
   ]
  },
  {
   "cell_type": "code",
   "execution_count": 2,
   "id": "aa50a27f",
   "metadata": {},
   "outputs": [],
   "source": [
    "K_func = lambda d: jnp.atleast_2d(-1*d**2)\n",
    "b_func = lambda d: 0.\n",
    "def create_linear_model(K_func, b_func):\n",
    "    def linear_model(theta, d):\n",
    "        # Not that this model is NON-LINEAR wrt theta:\n",
    "        theta = jnp.atleast_1d(theta.squeeze())\n",
    "        return jnp.einsum('ij,j->i', K_func(d), theta**(3/2) + theta**(-0.8)) + b_func(d)\n",
    "    return linear_model"
   ]
  },
  {
   "cell_type": "code",
   "execution_count": 3,
   "id": "a4f88f77",
   "metadata": {},
   "outputs": [
    {
     "name": "stderr",
     "output_type": "stream",
     "text": [
      "WARNING:absl:No GPU/TPU found, falling back to CPU. (Set TF_CPP_MIN_LOG_LEVEL=0 and rerun for more info.)\n"
     ]
    }
   ],
   "source": [
    "prior_mean = jnp.array([0.0])\n",
    "prior_cov = jnp.array([[1.0]])\n",
    "noise_cov = jnp.array([[0.1]])\n",
    "lr=1e-1\n",
    "max_iter=10\n",
    "abs_tol = 1e-6\n",
    "rel_tol=1e-6\n",
    "model_func = create_linear_model(K_func, b_func)\n",
    "model_func_dt = jax.jacfwd(model_func, argnums=0)\n",
    "model = oed_toolbox.models.Model.from_jax_function(model_func)\n",
    "minimizer = oed_toolbox.optim.gradient_descent_for_map(lr=lr, max_iter=max_iter, abs_tol=abs_tol, rel_tol=rel_tol)\n",
    "posterior = oed_toolbox.distributions.Posterior.laplace_approximation(model, minimizer, noise_cov, prior_mean, prior_cov)"
   ]
  },
  {
   "cell_type": "code",
   "execution_count": 4,
   "id": "f1db2887",
   "metadata": {},
   "outputs": [],
   "source": [
    "noise_icov = jnp.linalg.inv(noise_cov)\n",
    "prior_icov = jnp.linalg.inv(prior_cov)\n",
    "\n",
    "def loss(theta, y, d):\n",
    "    y_pred = model_func(theta, d)\n",
    "    return jnp.einsum(\"ai,ij,aj->\", y-y_pred, noise_icov, y-y_pred) + \\\n",
    "           jnp.einsum(\"i,ij,j->\", theta-prior_mean, prior_icov, theta-prior_mean)\n",
    "\n",
    "def jax_posterior(theta, y, d):\n",
    "    t_map = joptimize.minimize(loss, theta[0,:]+1e-1, args=(y, d), method='BFGS').x\n",
    "    t_map = t_map[None,:]\n",
    "    y_map = model_func(t_map, d)\n",
    "    y_map_dt = model_func_dt(t_map, d)\n",
    "    b = linearisation_constant(y_map, y_map_dt, t_map)\n",
    "    mean, cov, icov = mean_cov_and_icov(y, t_map, y_map_dt, b)\n",
    "    return jax.scipy.stats.multivariate_normal.logpdf(theta, mean=mean, cov=cov)\n",
    "\n",
    "def linearisation_constant(y_map, y_map_del_theta, theta_map):\n",
    "    return y_map - jnp.einsum(\"aij,aj->ai\", y_map_del_theta, theta_map)\n",
    "\n",
    "def mean_cov_and_icov(y, theta_map, y_map_del_theta, b):\n",
    "    inv_cov = jnp.einsum(\"aki,kl,alj->aij\", y_map_del_theta, noise_icov, y_map_del_theta) + prior_icov\n",
    "    cov = jnp.linalg.inv(inv_cov)\n",
    "    mean_times_inv_cov = jnp.einsum(\"aj,jk,aki->ai\", y-b, noise_icov, y_map_del_theta) \\\n",
    "                         + jnp.einsum('i,ij->j', prior_mean, prior_icov)\n",
    "    mean = jnp.einsum(\"ak,aki->ai\", mean_times_inv_cov, cov)\n",
    "    return mean, cov, inv_cov\n",
    "\n",
    "true_posterior = {'logpdf': jax_posterior,\n",
    "                  'logpdf_dy': jax.jacfwd(jax_posterior, argnums=1),\n",
    "                  'logpdf_dd': jax.jacfwd(jax_posterior, argnums=2)}"
   ]
  },
  {
   "cell_type": "code",
   "execution_count": 5,
   "id": "1fe720cf",
   "metadata": {},
   "outputs": [],
   "source": [
    "def jax_tmap(theta, y, d):\n",
    "    t_map = joptimize.minimize(loss, theta[0,:], args=(y, d), method='BFGS').x\n",
    "    t_map = t_map[None,:]\n",
    "    return t_map\n",
    "\n",
    "def jax_mean_and_cov(theta, y, d):\n",
    "    t_map = joptimize.minimize(loss, theta[0,:], args=(y, d), method='BFGS').x\n",
    "    t_map = t_map[None,:]\n",
    "    y_map = model_func(t_map, d)\n",
    "    y_map_dt = model_func_dt(t_map, d)\n",
    "    b = linearisation_constant(y_map, y_map_dt, t_map)\n",
    "    mean, cov, icov = mean_cov_and_icov(y, t_map, y_map_dt, b)\n",
    "    return mean, cov"
   ]
  },
  {
   "cell_type": "code",
   "execution_count": 6,
   "id": "c9855567",
   "metadata": {
    "scrolled": true
   },
   "outputs": [
    {
     "name": "stdout",
     "output_type": "stream",
     "text": [
      "True logpdf: [0.24348485], Computed logpdf: [0.24150366], Difference: [0.0019812]\n",
      "True logpdf_dy: [[[-2.3860812]]], Computed logpdf_dy: [[-2.40326666]], Difference: [[[0.01718545]]]\n",
      "True logpdf_dd: [[[-7.817034]]], Computed logpdf_dd: [[-7.877552]], Difference: [[[0.06051826]]]\n"
     ]
    }
   ],
   "source": [
    "key = jax.random.PRNGKey(2)\n",
    "noise = jax.random.multivariate_normal(key, mean=jnp.array([0]), cov=noise_cov)\n",
    "theta = jnp.array([[1.2]])\n",
    "d = jnp.array([[1.]])\n",
    "# Nb: if y is far away from model(theta, d), then grad descent will fail:\n",
    "y = jnp.array([model_func(theta, d) + noise])\n",
    "post_val = posterior.logpdf(theta, y, d, return_dd=True, return_dy=True)\n",
    "for key, func in true_posterior.items():\n",
    "    val = func(theta, y, d)\n",
    "    print(f'True {key}: {val}, Computed {key}: {post_val[key]}, Difference: {val-post_val[key]}')"
   ]
  },
  {
   "cell_type": "code",
   "execution_count": 7,
   "id": "1082a23e",
   "metadata": {},
   "outputs": [
    {
     "data": {
      "text/plain": [
       "DeviceArray([[1.1447797]], dtype=float32)"
      ]
     },
     "execution_count": 7,
     "metadata": {},
     "output_type": "execute_result"
    }
   ],
   "source": [
    "jax_tmap(theta, y, d)"
   ]
  },
  {
   "cell_type": "code",
   "execution_count": 8,
   "id": "708899ad",
   "metadata": {},
   "outputs": [
    {
     "data": {
      "text/plain": [
       "DeviceArray([[[[-1.138988]]]], dtype=float32)"
      ]
     },
     "execution_count": 8,
     "metadata": {},
     "output_type": "execute_result"
    }
   ],
   "source": [
    "jax.jacfwd(jax_tmap, argnums=1)(theta, y, d)"
   ]
  },
  {
   "cell_type": "code",
   "execution_count": 9,
   "id": "18ffef43",
   "metadata": {},
   "outputs": [
    {
     "data": {
      "text/plain": [
       "(DeviceArray([[[[-1.1389779]]]], dtype=float32),\n",
       " DeviceArray([[[[[0.33698648]]]]], dtype=float32))"
      ]
     },
     "execution_count": 9,
     "metadata": {},
     "output_type": "execute_result"
    }
   ],
   "source": [
    "jax.jacfwd(jax_mean_and_cov, argnums=1)(theta, y, d)"
   ]
  },
  {
   "cell_type": "code",
   "execution_count": null,
   "id": "9f63ac7e",
   "metadata": {},
   "outputs": [],
   "source": [
    "(joptimize.minimize(loss, theta[0,:], args=(y, d+1e-3), method='BFGS').x - \\\n",
    "joptimize.minimize(loss, theta[0,:], args=(y, d), method='BFGS').x)/1e-3"
   ]
  },
  {
   "cell_type": "code",
   "execution_count": null,
   "id": "8979da78",
   "metadata": {},
   "outputs": [],
   "source": [
    "joptimize.minimize(loss, theta[0,:], args=(y, d+1e-3), method='BFGS').x"
   ]
  },
  {
   "cell_type": "code",
   "execution_count": null,
   "id": "d2299022",
   "metadata": {},
   "outputs": [],
   "source": []
  }
 ],
 "metadata": {
  "kernelspec": {
   "display_name": "Python 3 (ipykernel)",
   "language": "python",
   "name": "python3"
  },
  "language_info": {
   "codemirror_mode": {
    "name": "ipython",
    "version": 3
   },
   "file_extension": ".py",
   "mimetype": "text/x-python",
   "name": "python",
   "nbconvert_exporter": "python",
   "pygments_lexer": "ipython3",
   "version": "3.8.10"
  }
 },
 "nbformat": 4,
 "nbformat_minor": 5
}

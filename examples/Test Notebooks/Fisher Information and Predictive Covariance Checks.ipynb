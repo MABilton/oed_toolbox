{
 "cells": [
  {
   "cell_type": "code",
   "execution_count": 1,
   "id": "3ee0b609",
   "metadata": {},
   "outputs": [],
   "source": [
    "import oed_toolbox\n",
    "import numpy as np\n",
    "import jax\n",
    "import jax.numpy as jnp"
   ]
  },
  {
   "cell_type": "code",
   "execution_count": 3,
   "id": "4cdc9f82",
   "metadata": {},
   "outputs": [],
   "source": [
    "def create_linear_model(K_func, b_func):\n",
    "    def linear_model(theta, d):\n",
    "        return jnp.einsum('ij,j->i', K_func(d), 2*jnp.log(theta) - theta**-0.5) + b_func(d)*theta**2\n",
    "    return linear_model"
   ]
  },
  {
   "cell_type": "code",
   "execution_count": 25,
   "id": "53d20568",
   "metadata": {},
   "outputs": [],
   "source": [
    "K_func = lambda d: jnp.atleast_2d(-1*(d-5)**2 + 20)\n",
    "b_func = lambda d: 0.5*d**(5/2)\n",
    "model_func = create_linear_model(K_func, b_func)\n",
    "model = oed_toolbox.models.Model.from_jax_function(model_func)"
   ]
  },
  {
   "cell_type": "code",
   "execution_count": 30,
   "id": "5e318780",
   "metadata": {},
   "outputs": [],
   "source": [
    "ndim = 1\n",
    "noise = jnp.identity(1)\n",
    "likelihood = oed_toolbox.distributions.Likelihood.from_model_plus_constant_gaussian_noise(model, noise)"
   ]
  },
  {
   "cell_type": "code",
   "execution_count": 31,
   "id": "0c60d9f0",
   "metadata": {},
   "outputs": [],
   "source": [
    "def true_likelihood(y, theta, d):\n",
    "    y_pred = model_func(theta, d)\n",
    "    return jax.scipy.stats.multivariate_normal.logpdf(y, mean=y_pred, cov=noise*jnp.identity(y_pred.shape[0]))\n",
    "true_likelihood_dt = jax.vmap(jax.jacfwd(true_likelihood, argnums=1), in_axes=(0,None,None))"
   ]
  },
  {
   "cell_type": "code",
   "execution_count": 32,
   "id": "e4ad6ed9",
   "metadata": {},
   "outputs": [],
   "source": [
    "noise_chol = jnp.linalg.cholesky(noise)\n",
    "def transform(epsilon, theta, d):\n",
    "    return model_func(theta,d) + jnp.einsum('ij,aj->ai', noise_chol, epsilon)\n",
    "\n",
    "def jax_fisher_info(d, theta, epsilon):\n",
    "    y = transform(epsilon, theta, d)\n",
    "    ll_dt = true_likelihood_dt(y, theta, d)\n",
    "    return jnp.mean(jnp.einsum('ai,aj->aij', ll_dt, ll_dt), axis=0)\n",
    "\n",
    "true_fisher_info = {'cov': jax_fisher_info,\n",
    "                    'cov_dd': jax.jacfwd(jax_fisher_info, argnums=0)}"
   ]
  },
  {
   "cell_type": "code",
   "execution_count": 33,
   "id": "3f20626b",
   "metadata": {},
   "outputs": [],
   "source": [
    "rng = jax.random.PRNGKey(6)\n",
    "num_samples = 1000\n",
    "d = jnp.array([1.6])\n",
    "theta = jnp.array([1.])\n",
    "epsilon = jax.random.multivariate_normal(rng, mean=jnp.array([0.]), cov=jnp.array([[1.]]), shape=(num_samples,))"
   ]
  },
  {
   "cell_type": "code",
   "execution_count": 34,
   "id": "7de6e0f6",
   "metadata": {},
   "outputs": [
    {
     "name": "stdout",
     "output_type": "stream",
     "text": [
      "True cov: [[601.1879]], \n",
      " Computed cov: [[601.1879]], \n",
      " Difference: [[0.]]\n",
      "True cov_dd: [[[1089.8102]]], \n",
      " Computed cov_dd: [[[1089.8102]]], \n",
      " Difference: [[[0.]]]\n"
     ]
    }
   ],
   "source": [
    "fisher_info = oed_toolbox.covariances.FisherInformation(likelihood, use_reparameterisation=True)\n",
    "fi_vals = fisher_info(d, theta, num_samples, samples=epsilon)\n",
    "for key, func in true_fisher_info.items():\n",
    "    true_val = func(d, theta, epsilon)\n",
    "    print(f'True {key}: {true_val}, \\n Computed {key}: {fi_vals[key]}, \\n Difference: {true_val-fi_vals[key]}')"
   ]
  },
  {
   "cell_type": "code",
   "execution_count": 35,
   "id": "d73db4ef",
   "metadata": {},
   "outputs": [
    {
     "name": "stdout",
     "output_type": "stream",
     "text": [
      "True cov: [[601.1879]], \n",
      " Computed cov: [[601.25308413]], \n",
      " Difference: [[-0.06518555]]\n",
      "True cov_dd: [[[1089.8102]]], \n",
      " Computed cov_dd: [[[1167.67463642]]], \n",
      " Difference: [[[-77.8645]]]\n"
     ]
    }
   ],
   "source": [
    "fisher_info = oed_toolbox.covariances.FisherInformation(likelihood)\n",
    "y_samples = transform(epsilon, theta, d)\n",
    "fi_vals = fisher_info(d, theta, num_samples, samples=y_samples) \n",
    "for key, func in true_fisher_info.items():\n",
    "    true_val = func(d, theta, epsilon)\n",
    "    print(f'True {key}: {true_val}, \\n Computed {key}: {fi_vals[key]}, \\n Difference: {true_val-fi_vals[key]}')"
   ]
  },
  {
   "cell_type": "code",
   "execution_count": 38,
   "id": "05eb00ca",
   "metadata": {},
   "outputs": [],
   "source": [
    "model_func_dt = jax.jacfwd(model_func, argnums=0)\n",
    "def jax_predictive_cov(d, theta, epsilon):\n",
    "    fisher_info = jax_fisher_info(d, theta, epsilon)\n",
    "    inv_fisher_info = jnp.linalg.inv(fisher_info)\n",
    "    y_dt = model_func_dt(theta, d)\n",
    "    return jnp.einsum('ij,jk,kl->il', y_dt, inv_fisher_info, y_dt.T)\n",
    "true_pred_cov = {'cov': jax_predictive_cov,\n",
    "                 'cov_dd': jax.jacfwd(jax_predictive_cov, argnums=0)}"
   ]
  },
  {
   "cell_type": "code",
   "execution_count": 39,
   "id": "1ed3cc06",
   "metadata": {},
   "outputs": [
    {
     "name": "stdout",
     "output_type": "stream",
     "text": [
      "True cov: [[0.9852935]], \n",
      " Computed cov: [[0.98529357]], \n",
      " Difference: [[-5.9604645e-08]]\n",
      "True cov_dd: [[[-2.117116e-07]]], \n",
      " Computed cov_dd: [[[-2.3841858e-07]]], \n",
      " Difference: [[[2.6706985e-08]]]\n"
     ]
    }
   ],
   "source": [
    "fisher_info = oed_toolbox.covariances.FisherInformation(likelihood, use_reparameterisation=True)\n",
    "pred_cov = oed_toolbox.covariances.PredictiveCovariance(model, fisher_info)\n",
    "pc_vals = pred_cov(d, theta, samples=epsilon)\n",
    "for key, func in true_pred_cov.items():\n",
    "    true_val = func(d, theta, epsilon)\n",
    "    print(f'True {key}: {true_val}, \\n Computed {key}: {pc_vals[key]}, \\n Difference: {true_val-pc_vals[key]}')"
   ]
  },
  {
   "cell_type": "code",
   "execution_count": 41,
   "id": "6ad376c7",
   "metadata": {},
   "outputs": [
    {
     "name": "stdout",
     "output_type": "stream",
     "text": [
      "True cov: [[0.9852935]], \n",
      " Computed cov: [[0.98518674]], \n",
      " Difference: [[0.00010675]]\n",
      "True cov_dd: [[[-2.117116e-07]]], \n",
      " Computed cov_dd: [[[-0.12739188]]], \n",
      " Difference: [[[0.12739168]]]\n"
     ]
    }
   ],
   "source": [
    "fisher_info = oed_toolbox.covariances.FisherInformation(likelihood)\n",
    "pred_cov = oed_toolbox.covariances.PredictiveCovariance(model, fisher_info)\n",
    "y_samples = transform(epsilon, theta, d)\n",
    "pc_vals = pred_cov(d, theta, samples=y_samples)\n",
    "for key, func in true_pred_cov.items():\n",
    "    true_val = func(d, theta, epsilon)\n",
    "    print(f'True {key}: {true_val}, \\n Computed {key}: {pc_vals[key]}, \\n Difference: {true_val-pc_vals[key]}')"
   ]
  }
 ],
 "metadata": {
  "kernelspec": {
   "display_name": "Python 3 (ipykernel)",
   "language": "python",
   "name": "python3"
  },
  "language_info": {
   "codemirror_mode": {
    "name": "ipython",
    "version": 3
   },
   "file_extension": ".py",
   "mimetype": "text/x-python",
   "name": "python",
   "nbconvert_exporter": "python",
   "pygments_lexer": "ipython3",
   "version": "3.8.10"
  }
 },
 "nbformat": 4,
 "nbformat_minor": 5
}
